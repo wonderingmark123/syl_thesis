{
 "metadata": {
  "language_info": {
   "codemirror_mode": {
    "name": "ipython",
    "version": 3
   },
   "file_extension": ".py",
   "mimetype": "text/x-python",
   "name": "python",
   "nbconvert_exporter": "python",
   "pygments_lexer": "ipython3",
   "version": "3.8.5"
  },
  "orig_nbformat": 2,
  "kernelspec": {
   "name": "python385jvsc74a57bd033b5466961a6488c7780fa232de95ad06814ff82e05c607534e29829b786df26",
   "display_name": "Python 3.8.5 64-bit ('pytorch': conda)"
  }
 },
 "nbformat": 4,
 "nbformat_minor": 2,
 "cells": [
  {
   "cell_type": "code",
   "execution_count": 6,
   "metadata": {},
   "outputs": [
    {
     "output_type": "error",
     "ename": "ModuleNotFoundError",
     "evalue": "No module named 'xlrd'",
     "traceback": [
      "\u001b[1;31m---------------------------------------------------------------------------\u001b[0m",
      "\u001b[1;31mModuleNotFoundError\u001b[0m                       Traceback (most recent call last)",
      "\u001b[1;32m<ipython-input-6-43c3c599f5e8>\u001b[0m in \u001b[0;36m<module>\u001b[1;34m\u001b[0m\n\u001b[0;32m      1\u001b[0m \u001b[1;31m# -*- coding: utf-8 -*-\u001b[0m\u001b[1;33m\u001b[0m\u001b[1;33m\u001b[0m\u001b[1;33m\u001b[0m\u001b[0m\n\u001b[0;32m      2\u001b[0m \u001b[1;32mimport\u001b[0m \u001b[0mos\u001b[0m\u001b[1;33m\u001b[0m\u001b[1;33m\u001b[0m\u001b[0m\n\u001b[1;32m----> 3\u001b[1;33m \u001b[1;32mimport\u001b[0m \u001b[0mxlrd\u001b[0m\u001b[1;33m\u001b[0m\u001b[1;33m\u001b[0m\u001b[0m\n\u001b[0m\u001b[0;32m      4\u001b[0m \u001b[0mdate\u001b[0m \u001b[1;33m=\u001b[0m \u001b[1;33m[\u001b[0m\u001b[1;34m'0530'\u001b[0m\u001b[1;33m,\u001b[0m\u001b[1;34m'0609'\u001b[0m\u001b[1;33m,\u001b[0m\u001b[1;34m'0624'\u001b[0m\u001b[1;33m,\u001b[0m\u001b[1;34m'0725'\u001b[0m\u001b[1;33m,\u001b[0m\u001b[1;34m'0826'\u001b[0m\u001b[1;33m,\u001b[0m\u001b[1;34m'0925'\u001b[0m\u001b[1;33m]\u001b[0m\u001b[1;33m\u001b[0m\u001b[1;33m\u001b[0m\u001b[0m\n\u001b[0;32m      5\u001b[0m \u001b[1;33m\u001b[0m\u001b[0m\n",
      "\u001b[1;31mModuleNotFoundError\u001b[0m: No module named 'xlrd'"
     ]
    }
   ],
   "source": [
    "# -*- coding: utf-8 -*-\n",
    "import os\n",
    "import xlrd\n",
    "date = ['0530','0609','0624','0725','0826','0925']\n",
    "\n",
    "import xlrd\n",
    "def read_excel():\n",
    "    # 打开文件\n",
    "    workbook = xlrd.open_workbook('E:\\pycharm project\\movies.xls')\n",
    "    # 获取所有sheet\n",
    "    # print workbook.sheet_names() # [u'sheet1', u'sheet2']\n",
    "    #获取sheet2\n",
    "    sheet2_name= workbook.sheet_names()[1]\n",
    "    # print sheet2_name\n",
    "    # 根据sheet索引或者名称获取sheet内容\n",
    "    sheet2 = workbook.sheet_by_name('Sheet2')\n",
    "    # sheet的名称，行数，列数\n",
    "    # print sheet2.name,sheet2.nrows,sheet2.ncols\n",
    "    rows = sheet2.row_values(3) # 获取第四行内容\n",
    "    cols = sheet2.col_values(2) # 获取第三列内容\n",
    "    # print rows\n",
    "    # print cols\n",
    "    # #获取单元格内容的三种方法\n",
    "    # print sheet2.cell(1,0).value.encode('utf-8')\n",
    "    # print sheet2.cell_value(1,0).encode('utf-8')\n",
    "    # print sheet2.row(1)[0].value.encode('utf-8')\n",
    "    # # 获取单元格内容的数据类型\n",
    "    # print sheet2.cell(1,3).ctype\n"
   ]
  },
  {
   "cell_type": "code",
   "execution_count": null,
   "metadata": {},
   "outputs": [],
   "source": [
    "import numpy as np\n"
   ]
  }
 ]
}